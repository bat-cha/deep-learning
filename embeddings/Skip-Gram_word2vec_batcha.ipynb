{
 "cells": [
  {
   "cell_type": "markdown",
   "metadata": {
    "deletable": true,
    "editable": true
   },
   "source": [
    "# Skip-gram word2vec\n",
    "\n",
    "In this notebook, I'll lead you through using TensorFlow to implement the word2vec algorithm using the skip-gram architecture. By implementing this, you'll learn about embedding words for use in natural language processing. This will come in handy when dealing with things like machine translation.\n",
    "\n",
    "## Readings\n",
    "\n",
    "Here are the resources I used to build this notebook. I suggest reading these either beforehand or while you're working on this material.\n",
    "\n",
    "* A really good [conceptual overview](http://mccormickml.com/2016/04/19/word2vec-tutorial-the-skip-gram-model/) of word2vec from Chris McCormick \n",
    "* [First word2vec paper](https://arxiv.org/pdf/1301.3781.pdf) from Mikolov et al.\n",
    "* [NIPS paper](http://papers.nips.cc/paper/5021-distributed-representations-of-words-and-phrases-and-their-compositionality.pdf) with improvements for word2vec also from Mikolov et al.\n",
    "* An [implementation of word2vec](http://www.thushv.com/natural_language_processing/word2vec-part-1-nlp-with-deep-learning-with-tensorflow-skip-gram/) from Thushan Ganegedara\n",
    "* TensorFlow [word2vec tutorial](https://www.tensorflow.org/tutorials/word2vec)\n",
    "\n",
    "## Word embeddings\n",
    "\n",
    "When you're dealing with words in text, you end up with tens of thousands of classes to predict, one for each word. Trying to one-hot encode these words is massively inefficient, you'll have one element set to 1 and the other 50,000 set to 0. The matrix multiplication going into the first hidden layer will have almost all of the resulting values be zero. This a huge waste of computation. \n",
    "\n",
    "![one-hot encodings](assets/one_hot_encoding.png)\n",
    "\n",
    "To solve this problem and greatly increase the efficiency of our networks, we use what are called embeddings. Embeddings are just a fully connected layer like you've seen before. We call this layer the embedding layer and the weights are embedding weights. We skip the multiplication into the embedding layer by instead directly grabbing the hidden layer values from the weight matrix. We can do this because the multiplication of a one-hot encoded vector with a matrix returns the row of the matrix corresponding the index of the \"on\" input unit.\n",
    "\n",
    "![lookup](assets/lookup_matrix.png)\n",
    "\n",
    "Instead of doing the matrix multiplication, we use the weight matrix as a lookup table. We encode the words as integers, for example \"heart\" is encoded as 958, \"mind\" as 18094. Then to get hidden layer values for \"heart\", you just take the 958th row of the embedding matrix. This process is called an **embedding lookup** and the number of hidden units is the **embedding dimension**.\n",
    "\n",
    "<img src='assets/tokenize_lookup.png' width=500>\n",
    " \n",
    "There is nothing magical going on here. The embedding lookup table is just a weight matrix. The embedding layer is just a hidden layer. The lookup is just a shortcut for the matrix multiplication. The lookup table is trained just like any weight matrix as well.\n",
    "\n",
    "Embeddings aren't only used for words of course. You can use them for any model where you have a massive number of classes. A particular type of model called **Word2Vec** uses the embedding layer to find vector representations of words that contain semantic meaning.\n",
    "\n"
   ]
  },
  {
   "cell_type": "markdown",
   "metadata": {
    "deletable": true,
    "editable": true
   },
   "source": [
    "## Word2Vec\n",
    "\n",
    "The word2vec algorithm finds much more efficient representations by finding vectors that represent the words. These vectors also contain semantic information about the words. Words that show up in similar contexts, such as \"black\", \"white\", and \"red\" will have vectors near each other. There are two architectures for implementing word2vec, CBOW (Continuous Bag-Of-Words) and Skip-gram.\n",
    "\n",
    "<img src=\"assets/word2vec_architectures.png\" width=\"500\">\n",
    "\n",
    "In this implementation, we'll be using the skip-gram architecture because it performs better than CBOW. Here, we pass in a word and try to predict the words surrounding it in the text. In this way, we can train the network to learn representations for words that show up in similar contexts.\n",
    "\n",
    "First up, importing packages."
   ]
  },
  {
   "cell_type": "code",
   "execution_count": 1,
   "metadata": {
    "collapsed": true,
    "deletable": true,
    "editable": true
   },
   "outputs": [],
   "source": [
    "import time\n",
    "\n",
    "import numpy as np\n",
    "import tensorflow as tf\n",
    "\n",
    "import utils"
   ]
  },
  {
   "cell_type": "markdown",
   "metadata": {
    "deletable": true,
    "editable": true
   },
   "source": [
    "Load the [text8 dataset](http://mattmahoney.net/dc/textdata.html), a file of cleaned up Wikipedia articles from Matt Mahoney. The next cell will download the data set to the `data` folder. Then you can extract it and delete the archive file to save storage space."
   ]
  },
  {
   "cell_type": "code",
   "execution_count": 2,
   "metadata": {
    "collapsed": false,
    "deletable": true,
    "editable": true
   },
   "outputs": [
    {
     "name": "stderr",
     "output_type": "stream",
     "text": [
      "Text8 Dataset: 31.4MB [03:07, 167KB/s]                               \n"
     ]
    }
   ],
   "source": [
    "from urllib.request import urlretrieve\n",
    "from os.path import isfile, isdir\n",
    "from tqdm import tqdm\n",
    "import zipfile\n",
    "\n",
    "dataset_folder_path = 'data'\n",
    "dataset_filename = 'text8.zip'\n",
    "dataset_name = 'Text8 Dataset'\n",
    "\n",
    "class DLProgress(tqdm):\n",
    "    last_block = 0\n",
    "\n",
    "    def hook(self, block_num=1, block_size=1, total_size=None):\n",
    "        self.total = total_size\n",
    "        self.update((block_num - self.last_block) * block_size)\n",
    "        self.last_block = block_num\n",
    "\n",
    "if not isfile(dataset_filename):\n",
    "    with DLProgress(unit='B', unit_scale=True, miniters=1, desc=dataset_name) as pbar:\n",
    "        urlretrieve(\n",
    "            'http://mattmahoney.net/dc/text8.zip',\n",
    "            dataset_filename,\n",
    "            pbar.hook)\n",
    "\n",
    "if not isdir(dataset_folder_path):\n",
    "    with zipfile.ZipFile(dataset_filename) as zip_ref:\n",
    "        zip_ref.extractall(dataset_folder_path)\n",
    "        \n",
    "with open('data/text8') as f:\n",
    "    text = f.read()"
   ]
  },
  {
   "cell_type": "markdown",
   "metadata": {
    "deletable": true,
    "editable": true
   },
   "source": [
    "## Preprocessing\n",
    "\n",
    "Here I'm fixing up the text to make training easier. This comes from the `utils` module I wrote. The `preprocess` function coverts any punctuation into tokens, so a period is changed to ` <PERIOD> `. In this data set, there aren't any periods, but it will help in other NLP problems. I'm also removing all words that show up five or fewer times in the dataset. This will greatly reduce issues due to noise in the data and improve the quality of the vector representations. If you want to write your own functions for this stuff, go for it."
   ]
  },
  {
   "cell_type": "code",
   "execution_count": 3,
   "metadata": {
    "collapsed": false,
    "deletable": true,
    "editable": true
   },
   "outputs": [
    {
     "name": "stdout",
     "output_type": "stream",
     "text": [
      "['anarchism', 'originated', 'as', 'a', 'term', 'of', 'abuse', 'first', 'used', 'against', 'early', 'working', 'class', 'radicals', 'including', 'the', 'diggers', 'of', 'the', 'english', 'revolution', 'and', 'the', 'sans', 'culottes', 'of', 'the', 'french', 'revolution', 'whilst']\n"
     ]
    }
   ],
   "source": [
    "words = utils.preprocess(text)\n",
    "print(words[:30])"
   ]
  },
  {
   "cell_type": "code",
   "execution_count": 4,
   "metadata": {
    "collapsed": false,
    "deletable": true,
    "editable": true
   },
   "outputs": [
    {
     "name": "stdout",
     "output_type": "stream",
     "text": [
      "Total words: 16680599\n",
      "Unique words: 63641\n"
     ]
    }
   ],
   "source": [
    "print(\"Total words: {}\".format(len(words)))\n",
    "print(\"Unique words: {}\".format(len(set(words))))"
   ]
  },
  {
   "cell_type": "markdown",
   "metadata": {
    "deletable": true,
    "editable": true
   },
   "source": [
    "And here I'm creating dictionaries to convert words to integers and backwards, integers to words. The integers are assigned in descending frequency order, so the most frequent word (\"the\") is given the integer 0 and the next most frequent is 1 and so on. The words are converted to integers and stored in the list `int_words`."
   ]
  },
  {
   "cell_type": "code",
   "execution_count": 5,
   "metadata": {
    "collapsed": true,
    "deletable": true,
    "editable": true
   },
   "outputs": [],
   "source": [
    "vocab_to_int, int_to_vocab = utils.create_lookup_tables(words)\n",
    "int_words = [vocab_to_int[word] for word in words]"
   ]
  },
  {
   "cell_type": "markdown",
   "metadata": {
    "deletable": true,
    "editable": true
   },
   "source": [
    "## Subsampling\n",
    "\n",
    "Words that show up often such as \"the\", \"of\", and \"for\" don't provide much context to the nearby words. If we discard some of them, we can remove some of the noise from our data and in return get faster training and better representations. This process is called subsampling by Mikolov. For each word $w_i$ in the training set, we'll discard it with probability given by \n",
    "\n",
    "$$ P(w_i) = 1 - \\sqrt{\\frac{t}{f(w_i)}} $$\n",
    "\n",
    "where $t$ is a threshold parameter and $f(w_i)$ is the frequency of word $w_i$ in the total dataset.\n",
    "\n",
    "I'm going to leave this up to you as an exercise. This is more of a programming challenge, than about deep learning specifically. But, being able to prepare your data for your network is an important skill to have. Check out my solution to see how I did it.\n",
    "\n",
    "> **Exercise:** Implement subsampling for the words in `int_words`. That is, go through `int_words` and discard each word given the probablility $P(w_i)$ shown above. Note that $P(w_i)$ is the probability that a word is discarded. Assign the subsampled data to `train_words`."
   ]
  },
  {
   "cell_type": "code",
   "execution_count": 50,
   "metadata": {
    "collapsed": false,
    "deletable": true,
    "editable": true
   },
   "outputs": [
    {
     "name": "stdout",
     "output_type": "stream",
     "text": [
      "subsampling reduced 12051131 words (0.7224639235077829 )\n"
     ]
    }
   ],
   "source": [
    "## Your code here\n",
    "from collections import Counter\n",
    "import random\n",
    "count=Counter(words)\n",
    "total_words=len(words)\n",
    "threshold=1e-5\n",
    "# The final subsampled word list\n",
    "train_words = [int_word for int_word in int_words if (1-np.sqrt(threshold/(count[int_to_vocab[int_word]]/total_words))) < random.random()]\n",
    "print('subsampling reduced %s words (%s )' % (len(int_words)-len(train_words),(len(int_words)-len(train_words))/len(int_words)))"
   ]
  },
  {
   "cell_type": "markdown",
   "metadata": {
    "deletable": true,
    "editable": true
   },
   "source": [
    "## Making batches"
   ]
  },
  {
   "cell_type": "markdown",
   "metadata": {
    "deletable": true,
    "editable": true
   },
   "source": [
    "Now that our data is in good shape, we need to get it into the proper form to pass it into our network. With the skip-gram architecture, for each word in the text, we want to grab all the words in a window around that word, with size $C$. \n",
    "\n",
    "From [Mikolov et al.](https://arxiv.org/pdf/1301.3781.pdf): \n",
    "\n",
    "\"Since the more distant words are usually less related to the current word than those close to it, we give less weight to the distant words by sampling less from those words in our training examples... If we choose $C = 5$, for each training word we will select randomly a number $R$ in range $< 1; C >$, and then use $R$ words from history and $R$ words from the future of the current word as correct labels.\"\n",
    "\n",
    "> **Exercise:** Implement a function `get_target` that receives a list of words, an index, and a window size, then returns a list of words in the window around the index. Make sure to use the algorithm described above, where you choose a random number of words from the window."
   ]
  },
  {
   "cell_type": "code",
   "execution_count": 62,
   "metadata": {
    "collapsed": true,
    "deletable": true,
    "editable": true
   },
   "outputs": [],
   "source": [
    "def get_target(words, idx, window_size=5):\n",
    "    ''' Get a list of words in a window around an index. '''\n",
    "    \n",
    "    # Your code here\n",
    "    R = np.random.randint(1,window_size+1)\n",
    "    start = idx - R if ( idx - R ) > 0 else 0\n",
    "    stop = idx + R\n",
    "    target_words = set(words[start:idx] + words[idx+1:stop+1])\n",
    "    \n",
    "    return list(target_words)"
   ]
  },
  {
   "cell_type": "markdown",
   "metadata": {
    "deletable": true,
    "editable": true
   },
   "source": [
    "Here's a function that returns batches for our network. The idea is that it grabs `batch_size` words from a words list. Then for each of those words, it gets the target words in the window. I haven't found a way to pass in a random number of target words and get it to work with the architecture, so I make one row per input-target pair. This is a generator function by the way, helps save memory."
   ]
  },
  {
   "cell_type": "code",
   "execution_count": 54,
   "metadata": {
    "collapsed": true,
    "deletable": true,
    "editable": true
   },
   "outputs": [],
   "source": [
    "def get_batches(words, batch_size, window_size=5):\n",
    "    ''' Create a generator of word batches as a tuple (inputs, targets) '''\n",
    "    \n",
    "    n_batches = len(words)//batch_size\n",
    "    \n",
    "    # only full batches\n",
    "    words = words[:n_batches*batch_size]\n",
    "    \n",
    "    for idx in range(0, len(words), batch_size):\n",
    "        x, y = [], []\n",
    "        batch = words[idx:idx+batch_size]\n",
    "        for ii in range(len(batch)):\n",
    "            batch_x = batch[ii]\n",
    "            batch_y = get_target(batch, ii, window_size)\n",
    "            y.extend(batch_y)\n",
    "            x.extend([batch_x]*len(batch_y))\n",
    "        yield x, y\n",
    "    "
   ]
  },
  {
   "cell_type": "markdown",
   "metadata": {
    "deletable": true,
    "editable": true
   },
   "source": [
    "## Building the graph\n",
    "\n",
    "From [Chris McCormick's blog](http://mccormickml.com/2016/04/19/word2vec-tutorial-the-skip-gram-model/), we can see the general structure of our network.\n",
    "![embedding_network](./assets/skip_gram_net_arch.png)\n",
    "\n",
    "The input words are passed in as integers. This will go into a hidden layer of linear units, then into a softmax layer. We'll use the softmax layer to make a prediction like normal.\n",
    "\n",
    "The idea here is to train the hidden layer weight matrix to find efficient representations for our words. We can discard the softmax layer becuase we don't really care about making predictions with this network. We just want the embedding matrix so we can use it in other networks we build from the dataset.\n",
    "\n",
    "I'm going to have you build the graph in stages now. First off, creating the `inputs` and `labels` placeholders like normal.\n",
    "\n",
    "> **Exercise:** Assign `inputs` and `labels` using `tf.placeholder`. We're going to be passing in integers, so set the data types to `tf.int32`. The batches we're passing in will have varying sizes, so set the batch sizes to [`None`]. To make things work later, you'll need to set the second dimension of `labels` to `None` or `1`."
   ]
  },
  {
   "cell_type": "code",
   "execution_count": 56,
   "metadata": {
    "collapsed": true,
    "deletable": true,
    "editable": true
   },
   "outputs": [],
   "source": [
    "train_graph = tf.Graph()\n",
    "with train_graph.as_default():\n",
    "    inputs = tf.placeholder(tf.int32,[None],name='inputs')\n",
    "    labels = tf.placeholder(tf.int32,[None, None],name='labels')"
   ]
  },
  {
   "cell_type": "markdown",
   "metadata": {
    "deletable": true,
    "editable": true
   },
   "source": [
    "## Embedding\n",
    "\n"
   ]
  },
  {
   "cell_type": "markdown",
   "metadata": {
    "collapsed": true,
    "deletable": true,
    "editable": true
   },
   "source": [
    "The embedding matrix has a size of the number of words by the number of units in the hidden layer. So, if you have 10,000 words and 300 hidden units, the matrix will have size $10,000 \\times 300$. Remember that we're using tokenized data for our inputs, usually as integers, where the number of tokens is the number of words in our vocabulary.\n",
    "\n",
    "\n",
    "> **Exercise:** Tensorflow provides a convenient function [`tf.nn.embedding_lookup`](https://www.tensorflow.org/api_docs/python/tf/nn/embedding_lookup) that does this lookup for us. You pass in the embedding matrix and a tensor of integers, then it returns rows in the matrix corresponding to those integers. Below, set the number of embedding features you'll use (200 is a good start), create the embedding matrix variable, and use `tf.nn.embedding_lookup` to get the embedding tensors. For the embedding matrix, I suggest you initialize it with a uniform random numbers between -1 and 1 using [tf.random_uniform](https://www.tensorflow.org/api_docs/python/tf/random_uniform)."
   ]
  },
  {
   "cell_type": "code",
   "execution_count": 57,
   "metadata": {
    "collapsed": true,
    "deletable": true,
    "editable": true
   },
   "outputs": [],
   "source": [
    "n_vocab = len(int_to_vocab)\n",
    "n_embedding =  200 # Number of embedding features \n",
    "with train_graph.as_default():\n",
    "    embedding = tf.Variable(tf.random_uniform((n_vocab,n_embedding), -1, 1))# create embedding weight matrix here\n",
    "    embed = tf.nn.embedding_lookup(embedding, inputs)# use tf.nn.embedding_lookup to get the hidden layer output"
   ]
  },
  {
   "cell_type": "markdown",
   "metadata": {
    "deletable": true,
    "editable": true
   },
   "source": [
    "## Negative sampling\n",
    "\n"
   ]
  },
  {
   "cell_type": "markdown",
   "metadata": {
    "deletable": true,
    "editable": true
   },
   "source": [
    "For every example we give the network, we train it using the output from the softmax layer. That means for each input, we're making very small changes to millions of weights even though we only have one true example. This makes training the network very inefficient. We can approximate the loss from the softmax layer by only updating a small subset of all the weights at once. We'll update the weights for the correct label, but only a small number of incorrect labels. This is called [\"negative sampling\"](http://papers.nips.cc/paper/5021-distributed-representations-of-words-and-phrases-and-their-compositionality.pdf). Tensorflow has a convenient function to do this, [`tf.nn.sampled_softmax_loss`](https://www.tensorflow.org/api_docs/python/tf/nn/sampled_softmax_loss).\n",
    "\n",
    "> **Exercise:** Below, create weights and biases for the softmax layer. Then, use [`tf.nn.sampled_softmax_loss`](https://www.tensorflow.org/api_docs/python/tf/nn/sampled_softmax_loss) to calculate the loss. Be sure to read the documentation to figure out how it works."
   ]
  },
  {
   "cell_type": "code",
   "execution_count": 58,
   "metadata": {
    "collapsed": true,
    "deletable": true,
    "editable": true
   },
   "outputs": [],
   "source": [
    "# Number of negative labels to sample\n",
    "n_sampled = 100\n",
    "with train_graph.as_default():\n",
    "    softmax_w = tf.Variable(tf.truncated_normal((n_vocab, n_embedding),stddev=0.1))# create softmax weight matrix here\n",
    "    softmax_b = tf.Variable(tf.zeros(n_vocab))# create softmax biases here\n",
    "    \n",
    "    # Calculate the loss using negative sampling\n",
    "    loss = tf.nn.sampled_softmax_loss (softmax_w, softmax_b, labels, embed, n_sampled, n_vocab)\n",
    "    \n",
    "    cost = tf.reduce_mean(loss)\n",
    "    optimizer = tf.train.AdamOptimizer().minimize(cost)"
   ]
  },
  {
   "cell_type": "markdown",
   "metadata": {
    "deletable": true,
    "editable": true
   },
   "source": [
    "## Validation\n",
    "\n",
    "This code is from Thushan Ganegedara's implementation. Here we're going to choose a few common words and few uncommon words. Then, we'll print out the closest words to them. It's a nice way to check that our embedding table is grouping together words with similar semantic meanings."
   ]
  },
  {
   "cell_type": "code",
   "execution_count": 59,
   "metadata": {
    "collapsed": true,
    "deletable": true,
    "editable": true
   },
   "outputs": [],
   "source": [
    "with train_graph.as_default():\n",
    "    ## From Thushan Ganegedara's implementation\n",
    "    valid_size = 16 # Random set of words to evaluate similarity on.\n",
    "    valid_window = 100\n",
    "    # pick 8 samples from (0,100) and (1000,1100) each ranges. lower id implies more frequent \n",
    "    valid_examples = np.array(random.sample(range(valid_window), valid_size//2))\n",
    "    valid_examples = np.append(valid_examples, \n",
    "                               random.sample(range(1000,1000+valid_window), valid_size//2))\n",
    "\n",
    "    valid_dataset = tf.constant(valid_examples, dtype=tf.int32)\n",
    "    \n",
    "    # We use the cosine distance:\n",
    "    norm = tf.sqrt(tf.reduce_sum(tf.square(embedding), 1, keep_dims=True))\n",
    "    normalized_embedding = embedding / norm\n",
    "    valid_embedding = tf.nn.embedding_lookup(normalized_embedding, valid_dataset)\n",
    "    similarity = tf.matmul(valid_embedding, tf.transpose(normalized_embedding))"
   ]
  },
  {
   "cell_type": "code",
   "execution_count": 60,
   "metadata": {
    "collapsed": true,
    "deletable": true,
    "editable": true
   },
   "outputs": [],
   "source": [
    "# If the checkpoints directory doesn't exist:\n",
    "!mkdir checkpoints"
   ]
  },
  {
   "cell_type": "markdown",
   "metadata": {
    "deletable": true,
    "editable": true
   },
   "source": [
    "## Training\n",
    "\n",
    "Below is the code to train the network. Every 100 batches it reports the training loss. Every 1000 batches, it'll print out the validation words."
   ]
  },
  {
   "cell_type": "code",
   "execution_count": null,
   "metadata": {
    "collapsed": false,
    "deletable": true,
    "editable": true
   },
   "outputs": [
    {
     "name": "stdout",
     "output_type": "stream",
     "text": [
      "Epoch 1/10 Iteration: 100 Avg. Training loss: 5.6565 0.3136 sec/batch\n",
      "Epoch 1/10 Iteration: 200 Avg. Training loss: 5.6101 0.3114 sec/batch\n",
      "Epoch 1/10 Iteration: 300 Avg. Training loss: 5.4794 0.3013 sec/batch\n",
      "Epoch 1/10 Iteration: 400 Avg. Training loss: 5.6147 0.3002 sec/batch\n",
      "Epoch 1/10 Iteration: 500 Avg. Training loss: 5.5001 0.2928 sec/batch\n",
      "Epoch 1/10 Iteration: 600 Avg. Training loss: 5.5043 0.2877 sec/batch\n",
      "Epoch 1/10 Iteration: 700 Avg. Training loss: 5.5607 0.2853 sec/batch\n",
      "Epoch 1/10 Iteration: 800 Avg. Training loss: 5.5580 0.3103 sec/batch\n",
      "Epoch 1/10 Iteration: 900 Avg. Training loss: 5.4848 0.2932 sec/batch\n",
      "Epoch 1/10 Iteration: 1000 Avg. Training loss: 5.4055 0.3122 sec/batch\n",
      "Nearest to had: quirk, dam, oneworld, refrains, coolant, forecourt, culture, duron,\n",
      "Nearest to on: talkies, calculating, johns, cellist, pegasi, bronislaw, inversions, phrasing,\n",
      "Nearest to states: susskind, bani, flier, macrostate, emeric, shilling, wt, materialised,\n",
      "Nearest to four: emphasize, wrestler, mead, immune, mismeasure, pentagon, invariance, ignoring,\n",
      "Nearest to been: ort, kroni, attractive, buckingham, fervor, pronounced, initialized, prohibitions,\n",
      "Nearest to time: franchising, woolworth, zoo, scurvy, arctocephalus, encylopedia, placenames, intellectualism,\n",
      "Nearest to d: comdex, makers, delightful, balder, editorship, bait, dougal, mdl,\n",
      "Nearest to his: tarim, disturbing, apec, brinton, barsoomian, feel, alaska, rosario,\n",
      "Nearest to ocean: mahilyow, joint, evangelism, secrete, bourse, evangelic, fundamentalist, kerouac,\n",
      "Nearest to except: haggis, subsequent, disguising, dimmer, polonaise, publish, moralia, direct,\n",
      "Nearest to defense: ultrasonography, dermal, county, rard, closet, exactly, eidyn, mcmanus,\n",
      "Nearest to brother: unionised, danielle, fairmount, physiologically, laurence, plenary, nathalie, contemporary,\n",
      "Nearest to freedom: webmail, click, tautologies, determines, micromachining, teletext, gskola, gravestone,\n",
      "Nearest to egypt: unlawfully, thermometers, strategos, illustrating, tent, cityscape, mprp, anarchism,\n",
      "Nearest to smith: pforzheim, subliminal, minyan, tab, bi, theologico, frustrations, conquests,\n",
      "Nearest to hold: enslavable, activists, crowns, downwards, marina, leftists, infinity, visconti,\n",
      "Epoch 1/10 Iteration: 1100 Avg. Training loss: 5.5040 0.3118 sec/batch\n",
      "Epoch 1/10 Iteration: 1200 Avg. Training loss: 5.3859 0.3111 sec/batch\n",
      "Epoch 1/10 Iteration: 1300 Avg. Training loss: 5.3138 0.3068 sec/batch\n",
      "Epoch 1/10 Iteration: 1400 Avg. Training loss: 5.2260 0.3156 sec/batch\n",
      "Epoch 1/10 Iteration: 1500 Avg. Training loss: 5.1821 0.3157 sec/batch\n",
      "Epoch 1/10 Iteration: 1600 Avg. Training loss: 5.1602 0.3100 sec/batch\n",
      "Epoch 1/10 Iteration: 1700 Avg. Training loss: 5.0905 0.3118 sec/batch\n",
      "Epoch 1/10 Iteration: 1800 Avg. Training loss: 5.0301 0.3053 sec/batch\n",
      "Epoch 1/10 Iteration: 1900 Avg. Training loss: 5.0208 0.3050 sec/batch\n",
      "Epoch 1/10 Iteration: 2000 Avg. Training loss: 4.9636 0.3110 sec/batch\n",
      "Nearest to had: culture, quirk, k, selling, dam, administrations, oneworld, wrong,\n",
      "Nearest to on: calculating, johns, speaks, covered, cellist, inversions, called, talkies,\n",
      "Nearest to states: involving, flier, shilling, bani, susskind, macrostate, jesuit, materialised,\n",
      "Nearest to four: emphasize, pentagon, wrestler, consist, immune, ignoring, ever, humidity,\n",
      "Nearest to been: pronounced, attractive, ort, theorized, succeeding, ray, fervor, buckingham,\n",
      "Nearest to time: mechanized, zoo, end, franchising, wizard, submarines, encylopedia, gnosticism,\n",
      "Nearest to d: makers, comdex, succeeding, chorus, eric, inconsistencies, longitudinal, editorship,\n",
      "Nearest to his: feel, real, disturbing, tarim, private, at, apec, results,\n",
      "Nearest to ocean: joint, mahilyow, evangelism, secrete, phenomenon, harm, fundamentalist, alternatives,\n",
      "Nearest to except: subsequent, revealed, direct, publish, additionally, publisher, disguising, level,\n",
      "Nearest to defense: county, rard, exactly, ultrasonography, dermal, miniatures, lambeau, closet,\n",
      "Nearest to brother: unionised, february, contemporary, laurence, physiologically, programmers, clown, plenary,\n",
      "Nearest to freedom: determines, click, webmail, gravestone, homer, committed, micromachining, tautologies,\n",
      "Nearest to egypt: strategos, thermometers, anarchism, illustrating, stiglitz, mprp, unlawfully, gene,\n",
      "Nearest to smith: pforzheim, tab, subliminal, bi, conquests, cultures, vms, theologico,\n",
      "Nearest to hold: enslavable, infinity, activists, downwards, leftists, dispute, crowns, affricates,\n",
      "Epoch 1/10 Iteration: 2100 Avg. Training loss: 4.9083 0.3139 sec/batch\n",
      "Epoch 1/10 Iteration: 2200 Avg. Training loss: 4.9127 0.2930 sec/batch\n",
      "Epoch 1/10 Iteration: 2300 Avg. Training loss: 4.8752 0.2814 sec/batch\n",
      "Epoch 1/10 Iteration: 2400 Avg. Training loss: 4.8584 0.2816 sec/batch\n",
      "Epoch 1/10 Iteration: 2500 Avg. Training loss: 4.8004 0.2910 sec/batch\n",
      "Epoch 1/10 Iteration: 2600 Avg. Training loss: 4.8283 0.6358 sec/batch\n",
      "Epoch 1/10 Iteration: 2700 Avg. Training loss: 4.7962 0.3096 sec/batch\n",
      "Epoch 1/10 Iteration: 2800 Avg. Training loss: 4.7850 0.3062 sec/batch\n",
      "Epoch 1/10 Iteration: 2900 Avg. Training loss: 4.7843 0.3032 sec/batch\n",
      "Epoch 1/10 Iteration: 3000 Avg. Training loss: 4.7869 0.2962 sec/batch\n",
      "Nearest to had: administrations, culture, quirk, k, extinct, selling, coolant, dam,\n",
      "Nearest to on: calculating, johns, talkies, cellist, phrasing, warms, inversions, pegasi,\n",
      "Nearest to states: involving, shilling, jesuit, flier, bani, susskind, emeric, daly,\n",
      "Nearest to four: wrestler, pentagon, humidity, emphasize, consist, ignoring, immune, mead,\n",
      "Nearest to been: attractive, pronounced, theorized, buckingham, ort, kroni, prohibitions, macromolecules,\n",
      "Nearest to time: zoo, franchising, mechanized, woolworth, stomachs, placenames, gnosticism, end,\n",
      "Nearest to d: makers, comdex, eric, editorship, succeeding, peas, inconsistencies, delightful,\n",
      "Nearest to his: disturbing, tarim, feel, heard, targeting, jealously, real, intellectually,\n",
      "Nearest to ocean: joint, mahilyow, secrete, evangelism, kerouac, harm, paradigm, phenomenon,\n",
      "Nearest to except: subsequent, direct, revealed, publisher, disguising, flynn, publish, favoritism,\n",
      "Nearest to defense: ultrasonography, county, rard, exactly, dermal, passport, closet, euclidean,\n",
      "Nearest to brother: february, unionised, woman, laurence, contemporary, occupies, clown, physiologically,\n",
      "Nearest to freedom: determines, click, webmail, recognised, tautologies, gravestone, habsburgs, committed,\n",
      "Nearest to egypt: anarchism, jigs, westward, thermometers, illustrating, preparing, humanities, gene,\n",
      "Nearest to smith: pforzheim, tab, bi, conquests, subliminal, cultures, frustrations, takeover,\n",
      "Nearest to hold: activists, enslavable, downwards, crowns, infinity, profound, visconti, dispute,\n",
      "Epoch 1/10 Iteration: 3100 Avg. Training loss: 4.8068 0.2976 sec/batch\n",
      "Epoch 1/10 Iteration: 3200 Avg. Training loss: 4.7863 0.2936 sec/batch\n",
      "Epoch 1/10 Iteration: 3300 Avg. Training loss: 4.7409 0.2970 sec/batch\n",
      "Epoch 1/10 Iteration: 3400 Avg. Training loss: 4.7127 0.3071 sec/batch\n",
      "Epoch 1/10 Iteration: 3500 Avg. Training loss: 4.7519 0.3012 sec/batch\n",
      "Epoch 1/10 Iteration: 3600 Avg. Training loss: 4.6886 0.2969 sec/batch\n",
      "Epoch 1/10 Iteration: 3700 Avg. Training loss: 4.7120 0.3044 sec/batch\n",
      "Epoch 1/10 Iteration: 3800 Avg. Training loss: 4.7382 0.3022 sec/batch\n",
      "Epoch 1/10 Iteration: 3900 Avg. Training loss: 4.6961 0.2825 sec/batch\n",
      "Epoch 1/10 Iteration: 4000 Avg. Training loss: 4.6779 0.2806 sec/batch\n",
      "Nearest to had: administrations, culture, quirk, extinct, k, coolant, forecourt, founds,\n",
      "Nearest to on: calculating, johns, cellist, phrasing, petered, talkies, inversions, seamen,\n",
      "Nearest to states: involving, shilling, bani, flier, jesuit, abstain, susskind, emeric,\n",
      "Nearest to four: wrestler, two, wr, mead, humidity, hominids, pentagon, census,\n",
      "Nearest to been: pronounced, attractive, buckingham, theorized, ort, prohibitions, kroni, substantially,\n",
      "Nearest to time: zoo, woolworth, franchising, mechanized, rightfully, placenames, stomachs, dma,\n",
      "Nearest to d: eric, comdex, makers, poet, editorship, longitudinal, roddy, delightful,\n",
      "Nearest to his: disturbing, heard, feel, ruined, jealously, tarim, intellectually, apec,\n",
      "Nearest to ocean: joint, mahilyow, kerouac, secrete, evangelism, harm, unheard, ethiopian,\n",
      "Nearest to except: subsequent, disguising, revealed, direct, haggis, publisher, credentials, rationale,\n",
      "Nearest to defense: ultrasonography, rard, county, passport, closet, dermal, lambeau, ucl,\n",
      "Nearest to brother: unionised, february, woman, danielle, laurence, clown, plenary, physiologically,\n",
      "Nearest to freedom: determines, tautologies, click, webmail, gravestone, audubon, habsburgs, recognised,\n",
      "Nearest to egypt: jigs, thermometers, westward, illustrating, anarchism, hmso, humanities, preparing,\n",
      "Nearest to smith: pforzheim, subliminal, bi, tab, conquests, frustrations, cultures, expertise,\n",
      "Nearest to hold: enslavable, activists, downwards, crowns, infinity, marina, visconti, profound,\n",
      "Epoch 1/10 Iteration: 4100 Avg. Training loss: 4.6520 0.3026 sec/batch\n",
      "Epoch 1/10 Iteration: 4200 Avg. Training loss: 4.6877 0.2772 sec/batch\n",
      "Epoch 1/10 Iteration: 4300 Avg. Training loss: 4.6147 0.2824 sec/batch\n",
      "Epoch 1/10 Iteration: 4400 Avg. Training loss: 4.6420 0.3032 sec/batch\n",
      "Epoch 1/10 Iteration: 4500 Avg. Training loss: 4.6161 0.2916 sec/batch\n",
      "Epoch 1/10 Iteration: 4600 Avg. Training loss: 4.6163 0.3006 sec/batch\n",
      "Epoch 2/10 Iteration: 4700 Avg. Training loss: 4.6022 0.2042 sec/batch\n",
      "Epoch 2/10 Iteration: 4800 Avg. Training loss: 4.5493 0.3010 sec/batch\n",
      "Epoch 2/10 Iteration: 4900 Avg. Training loss: 4.5370 0.3014 sec/batch\n",
      "Epoch 2/10 Iteration: 5000 Avg. Training loss: 4.4988 0.2803 sec/batch\n",
      "Nearest to had: administrations, quirk, culture, extinct, coolant, founds, forecourt, brunette,\n",
      "Nearest to on: johns, phrasing, cellist, talkies, calculating, petered, seamen, emirates,\n",
      "Nearest to states: involving, shilling, bani, susskind, flier, abstain, jesuit, emeric,\n",
      "Nearest to four: wrestler, two, wr, musician, kzinti, jr, uruguayan, eight,\n",
      "Nearest to been: pronounced, theorized, kroni, attractive, buckingham, ort, prohibitions, factionalism,\n",
      "Nearest to time: woolworth, zoo, ditches, franchising, dma, shuttle, mechanized, wizard,\n",
      "Nearest to d: poet, eric, comdex, sculptor, makers, editorship, roddy, footballer,\n",
      "Nearest to his: disturbing, heard, tarim, jealously, was, feel, intellectually, brinton,\n",
      "Nearest to ocean: mahilyow, joint, kerouac, unheard, secrete, ethiopian, screename, yaoi,\n",
      "Nearest to except: subsequent, wahhabi, disguising, revealed, haggis, dimmer, moralia, appendage,\n",
      "Nearest to defense: ultrasonography, dermal, rard, closet, county, lambeau, passport, menendez,\n",
      "Nearest to brother: unionised, danielle, february, laurence, clown, plenary, woman, butte,\n",
      "Nearest to freedom: tautologies, determines, micromachining, timetables, click, habsburgs, webmail, recognised,\n",
      "Nearest to egypt: jigs, westward, mprp, thermometers, macbeth, hmso, millwall, berkelium,\n",
      "Nearest to smith: pforzheim, subliminal, tab, bi, conquests, aleksey, delineates, theologico,\n",
      "Nearest to hold: enslavable, activists, crowns, downwards, infinity, visconti, endo, marina,\n",
      "Epoch 2/10 Iteration: 5100 Avg. Training loss: 4.5027 0.2785 sec/batch\n",
      "Epoch 2/10 Iteration: 5200 Avg. Training loss: 4.5055 0.2987 sec/batch\n",
      "Epoch 2/10 Iteration: 5300 Avg. Training loss: 4.4473 0.3056 sec/batch\n",
      "Epoch 2/10 Iteration: 5400 Avg. Training loss: 4.5241 0.3011 sec/batch\n",
      "Epoch 2/10 Iteration: 5500 Avg. Training loss: 4.5041 0.2972 sec/batch\n",
      "Epoch 2/10 Iteration: 5600 Avg. Training loss: 4.4850 0.2845 sec/batch\n",
      "Epoch 2/10 Iteration: 5700 Avg. Training loss: 4.4933 0.3010 sec/batch\n",
      "Epoch 2/10 Iteration: 5800 Avg. Training loss: 4.4265 0.3043 sec/batch\n",
      "Epoch 2/10 Iteration: 5900 Avg. Training loss: 4.3908 0.3028 sec/batch\n",
      "Epoch 2/10 Iteration: 6000 Avg. Training loss: 4.4283 0.3010 sec/batch\n",
      "Nearest to had: administrations, culture, coolant, quirk, brunette, extinct, believing, priesthood,\n",
      "Nearest to on: johns, talkies, seamen, durables, cellist, calculating, ndwandwe, phrasing,\n",
      "Nearest to states: involving, shilling, bani, susskind, abstain, industry, emeric, materialised,\n",
      "Nearest to four: wrestler, two, wr, census, kzinti, droughts, migrant, humidity,\n",
      "Nearest to been: kroni, pronounced, buckingham, theorized, attractive, ort, shrink, prohibitions,\n",
      "Nearest to time: woolworth, loyd, zoo, intellectualism, wizard, ditches, rightfully, dma,\n",
      "Nearest to d: poet, eric, comdex, sculptor, editorship, makers, roddy, longitudinal,\n",
      "Nearest to his: disturbing, heard, tarim, jealously, sanction, ruined, intellectually, feel,\n",
      "Nearest to ocean: mahilyow, joint, kerouac, pacific, coastline, unheard, north, secrete,\n",
      "Nearest to except: subsequent, wahhabi, haggis, revealed, disguising, moralia, credentials, appendage,\n",
      "Nearest to defense: ultrasonography, dermal, lambeau, county, passport, iconography, menendez, rard,\n",
      "Nearest to brother: danielle, february, laurence, unionised, woman, clown, plenary, father,\n",
      "Nearest to freedom: tautologies, determines, recognised, timetables, micromachining, habsburgs, webmail, teletext,\n",
      "Nearest to egypt: westward, berkelium, jigs, macbeth, millwall, mprp, beech, hmso,\n",
      "Nearest to smith: pforzheim, subliminal, theologico, conquests, bi, aleksey, posthumously, amaury,\n",
      "Nearest to hold: enslavable, activists, downwards, crowns, infinity, visconti, sentries, disconnection,\n",
      "Epoch 2/10 Iteration: 6100 Avg. Training loss: 4.4529 0.2941 sec/batch\n",
      "Epoch 2/10 Iteration: 6200 Avg. Training loss: 4.4083 0.3291 sec/batch\n",
      "Epoch 2/10 Iteration: 6300 Avg. Training loss: 4.4279 0.3383 sec/batch\n",
      "Epoch 2/10 Iteration: 6400 Avg. Training loss: 4.3837 0.3388 sec/batch\n",
      "Epoch 2/10 Iteration: 6500 Avg. Training loss: 4.4421 0.3363 sec/batch\n",
      "Epoch 2/10 Iteration: 6600 Avg. Training loss: 4.4649 0.3392 sec/batch\n",
      "Epoch 2/10 Iteration: 6700 Avg. Training loss: 4.4115 0.3371 sec/batch\n",
      "Epoch 2/10 Iteration: 6800 Avg. Training loss: 4.3731 0.3295 sec/batch\n",
      "Epoch 2/10 Iteration: 6900 Avg. Training loss: 4.4105 0.3432 sec/batch\n",
      "Epoch 2/10 Iteration: 7000 Avg. Training loss: 4.3868 0.3276 sec/batch\n",
      "Nearest to had: administrations, coolant, culture, wikis, brunette, quirk, believing, alfons,\n",
      "Nearest to on: johns, talkies, durables, cellist, seamen, ndwandwe, pegasi, newt,\n",
      "Nearest to states: involving, shilling, susskind, publicly, abstain, bani, industry, organisation,\n",
      "Nearest to four: wrestler, two, wr, kzinti, census, kilometre, obispo, jr,\n",
      "Nearest to been: kroni, shrink, buckingham, theorized, prohibitions, pronounced, factionalism, bode,\n",
      "Nearest to time: woolworth, rightfully, wizard, stagnating, intellectualism, loyd, doomed, end,\n",
      "Nearest to d: poet, eric, comdex, sculptor, makers, editorship, theorist, nicolas,\n",
      "Nearest to his: disturbing, heard, tarim, was, jealously, youngest, ruined, feel,\n",
      "Nearest to ocean: mahilyow, pacific, joint, coastline, north, kerouac, locations, southwest,\n",
      "Nearest to except: subsequent, wahhabi, disguising, moralia, revealed, haggis, direct, generalise,\n",
      "Nearest to defense: ultrasonography, dermal, lambeau, passport, menendez, county, closet, iconography,\n",
      "Nearest to brother: danielle, woman, laurence, february, father, clown, unionised, plenary,\n",
      "Nearest to freedom: tautologies, timetables, micromachining, teletext, determines, habsburgs, recognised, depraved,\n",
      "Nearest to egypt: westward, berkelium, beech, jigs, hmso, macbeth, millwall, diss,\n",
      "Nearest to smith: pforzheim, subliminal, posthumously, theologico, aleksey, conquests, gustav, frustrations,\n",
      "Nearest to hold: enslavable, activists, crowns, downwards, visconti, disconnection, infinity, sentries,\n",
      "Epoch 2/10 Iteration: 7100 Avg. Training loss: 4.3988 0.3378 sec/batch\n",
      "Epoch 2/10 Iteration: 7200 Avg. Training loss: 4.4010 0.3282 sec/batch\n",
      "Epoch 2/10 Iteration: 7300 Avg. Training loss: 4.3348 0.3463 sec/batch\n",
      "Epoch 2/10 Iteration: 7400 Avg. Training loss: 4.3755 0.3085 sec/batch\n",
      "Epoch 2/10 Iteration: 7500 Avg. Training loss: 4.3869 0.3188 sec/batch\n",
      "Epoch 2/10 Iteration: 7600 Avg. Training loss: 4.4099 0.3297 sec/batch\n",
      "Epoch 2/10 Iteration: 7700 Avg. Training loss: 4.3766 0.3342 sec/batch\n",
      "Epoch 2/10 Iteration: 7800 Avg. Training loss: 4.3575 0.3587 sec/batch\n",
      "Epoch 2/10 Iteration: 7900 Avg. Training loss: 4.3211 0.3630 sec/batch\n",
      "Epoch 2/10 Iteration: 8000 Avg. Training loss: 4.3556 0.3354 sec/batch\n",
      "Nearest to had: administrations, coolant, believing, destroyed, torontonians, culture, brunette, priesthood,\n",
      "Nearest to on: talkies, durables, johns, newt, bays, seamen, calculating, inversions,\n",
      "Nearest to states: involving, shilling, bani, abstain, financial, susskind, publicly, industry,\n",
      "Nearest to four: two, wabash, kilometre, wrestler, census, est, wr, na,\n",
      "Nearest to been: kroni, prohibitions, shrink, buckingham, bode, factionalism, theorized, barbarous,\n",
      "Nearest to time: woolworth, intellectualism, doomed, end, stagnating, rightfully, dma, loyd,\n",
      "Nearest to d: eric, comdex, poet, sculptor, makers, theorist, editorship, nicolas,\n",
      "Nearest to his: disturbing, heard, youngest, tarim, ruined, was, jealously, intellectually,\n",
      "Nearest to ocean: mahilyow, pacific, coastline, north, joint, locations, kerouac, southwest,\n",
      "Nearest to except: subsequent, disguising, haggis, generalise, mondegreen, wahhabi, moralia, revealed,\n",
      "Nearest to defense: ultrasonography, dermal, passport, lambeau, menendez, rard, progenitors, destroyed,\n",
      "Nearest to brother: father, woman, clown, unionised, february, scarves, heartbroken, laurence,\n",
      "Nearest to freedom: tautologies, timetables, teletext, micromachining, determines, depraved, recognised, undermined,\n",
      "Nearest to egypt: westward, berkelium, macbeth, menachem, diss, middle, jigs, western,\n",
      "Nearest to smith: pforzheim, subliminal, aleksey, theologico, posthumously, gustav, vogel, frustrations,\n",
      "Nearest to hold: enslavable, activists, crowns, downwards, disconnection, visconti, credence, infinity,\n",
      "Epoch 2/10 Iteration: 8100 Avg. Training loss: 4.3433 0.3091 sec/batch\n",
      "Epoch 2/10 Iteration: 8200 Avg. Training loss: 4.3239 0.3264 sec/batch\n",
      "Epoch 2/10 Iteration: 8300 Avg. Training loss: 4.4113 0.3286 sec/batch\n",
      "Epoch 2/10 Iteration: 8400 Avg. Training loss: 4.3588 0.3191 sec/batch\n",
      "Epoch 2/10 Iteration: 8500 Avg. Training loss: 4.3568 0.3081 sec/batch\n",
      "Epoch 2/10 Iteration: 8600 Avg. Training loss: 4.3014 0.3071 sec/batch\n",
      "Epoch 2/10 Iteration: 8700 Avg. Training loss: 4.2968 0.3070 sec/batch\n",
      "Epoch 2/10 Iteration: 8800 Avg. Training loss: 4.3385 0.3087 sec/batch\n",
      "Epoch 2/10 Iteration: 8900 Avg. Training loss: 4.2228 0.3150 sec/batch\n",
      "Epoch 2/10 Iteration: 9000 Avg. Training loss: 4.3011 0.3175 sec/batch\n",
      "Nearest to had: administrations, brunette, believing, coolant, destroyed, his, priesthood, forecourt,\n",
      "Nearest to on: durables, johns, newt, talkies, bays, editorials, emirates, restructured,\n",
      "Nearest to states: involving, shilling, bani, susskind, publicly, abstain, financial, organisation,\n",
      "Nearest to four: two, wrestler, zero, eight, wr, three, census, wabash,\n",
      "Nearest to been: kroni, prohibitions, shrink, factionalism, bode, theorized, buckingham, pronounced,\n",
      "Nearest to time: intellectualism, doomed, woolworth, wizard, stagnating, end, dma, rightfully,\n",
      "Nearest to d: poet, sculptor, eric, comdex, theorist, nicolas, satirist, hoffmann,\n",
      "Nearest to his: disturbing, youngest, was, heard, ruined, intellectually, said, friend,\n",
      "Nearest to ocean: mahilyow, pacific, locations, coastline, joint, tributaries, kerouac, stations,\n",
      "Nearest to except: subsequent, mondegreen, haggis, generalise, moralia, disguising, wahhabi, credentials,\n",
      "Nearest to defense: ultrasonography, passport, dermal, lambeau, rard, closet, menendez, eidyn,\n",
      "Nearest to brother: father, danielle, woman, heartbroken, laurence, scarves, levi, unionised,\n",
      "Nearest to freedom: tautologies, teletext, timetables, micromachining, undermined, determines, depraved, cahiers,\n",
      "Nearest to egypt: westward, berkelium, menachem, mprp, anatolia, middle, jigs, dilmun,\n",
      "Nearest to smith: pforzheim, subliminal, aleksey, theologico, frustrations, johannes, posthumously, oberon,\n",
      "Nearest to hold: enslavable, activists, crowns, downwards, credence, infinity, visiting, embodies,\n",
      "Epoch 2/10 Iteration: 9100 Avg. Training loss: 4.2900 0.3265 sec/batch\n",
      "Epoch 2/10 Iteration: 9200 Avg. Training loss: 4.3185 0.3291 sec/batch\n",
      "Epoch 3/10 Iteration: 9300 Avg. Training loss: 4.3244 0.1298 sec/batch\n",
      "Epoch 3/10 Iteration: 9400 Avg. Training loss: 4.2462 0.3233 sec/batch\n",
      "Epoch 3/10 Iteration: 9500 Avg. Training loss: 4.2313 0.3073 sec/batch\n",
      "Epoch 3/10 Iteration: 9600 Avg. Training loss: 4.2005 0.3063 sec/batch\n",
      "Epoch 3/10 Iteration: 9700 Avg. Training loss: 4.2214 0.3032 sec/batch\n",
      "Epoch 3/10 Iteration: 9800 Avg. Training loss: 4.1928 0.3238 sec/batch\n",
      "Epoch 3/10 Iteration: 9900 Avg. Training loss: 4.2093 0.3161 sec/batch\n",
      "Epoch 3/10 Iteration: 10000 Avg. Training loss: 4.1657 0.3159 sec/batch\n",
      "Nearest to had: coolant, administrations, believing, brunette, destroyed, forecourt, wikis, decided,\n",
      "Nearest to on: durables, johns, talkies, inoculate, petered, restructured, bays, newt,\n",
      "Nearest to states: involving, shilling, bani, susskind, abstain, yoshinkan, publicly, scandal,\n",
      "Nearest to four: two, kilometre, five, wr, census, zero, three, wabash,\n",
      "Nearest to been: kroni, shrink, prohibitions, factionalism, bode, migrating, dicaprio, theorized,\n",
      "Nearest to time: end, intellectualism, woolworth, playoff, stagnating, doomed, astonishingly, kurds,\n",
      "Nearest to d: poet, eric, sculptor, comdex, nicolas, hoffmann, satirist, theorist,\n",
      "Nearest to his: youngest, disturbing, was, ruined, heard, said, intellectually, friend,\n",
      "Nearest to ocean: mahilyow, pacific, locations, tributaries, coastline, kerouac, bays, joint,\n",
      "Nearest to except: subsequent, mondegreen, haggis, generalise, moralia, wahhabi, credentials, carbide,\n",
      "Nearest to defense: ultrasonography, dermal, passport, lambeau, rard, enforcement, eidyn, closet,\n",
      "Nearest to brother: father, heartbroken, woman, scarves, kinsman, danielle, levi, plenary,\n",
      "Nearest to freedom: tautologies, teletext, timetables, determines, micromachining, undermined, cahiers, pragmatism,\n",
      "Nearest to egypt: westward, dilmun, anatolia, menachem, mprp, tent, middle, macbeth,\n",
      "Nearest to smith: pforzheim, subliminal, posthumously, theologico, aleksey, oberon, frustrations, guin,\n",
      "Nearest to hold: enslavable, activists, crowns, credence, embodies, visiting, downwards, visconti,\n",
      "Epoch 3/10 Iteration: 10100 Avg. Training loss: 4.2493 0.3260 sec/batch\n",
      "Epoch 3/10 Iteration: 10200 Avg. Training loss: 4.2193 0.3086 sec/batch\n",
      "Epoch 3/10 Iteration: 10300 Avg. Training loss: 4.2249 0.3177 sec/batch\n",
      "Epoch 3/10 Iteration: 10400 Avg. Training loss: 4.1310 0.3204 sec/batch\n",
      "Epoch 3/10 Iteration: 10500 Avg. Training loss: 4.1699 0.3095 sec/batch\n",
      "Epoch 3/10 Iteration: 10600 Avg. Training loss: 4.1722 0.2997 sec/batch\n",
      "Epoch 3/10 Iteration: 10700 Avg. Training loss: 4.1590 0.3098 sec/batch\n",
      "Epoch 3/10 Iteration: 10800 Avg. Training loss: 4.2090 0.3148 sec/batch\n",
      "Epoch 3/10 Iteration: 10900 Avg. Training loss: 4.2058 0.3116 sec/batch\n",
      "Epoch 3/10 Iteration: 11000 Avg. Training loss: 4.1772 0.3187 sec/batch\n",
      "Nearest to had: destroyed, coolant, administrations, brunette, sent, forecourt, believing, torontonians,\n",
      "Nearest to on: durables, petered, newt, johns, bays, inoculate, inversions, talkies,\n",
      "Nearest to states: involving, shilling, bani, abstain, susskind, yoshinkan, organisation, albino,\n",
      "Nearest to four: two, zero, three, kilometre, five, wr, one, est,\n",
      "Nearest to been: kroni, shrink, prohibitions, bode, migrating, theorized, thc, germinate,\n",
      "Nearest to time: end, woolworth, playoff, astonishingly, turbo, stagnating, candlestick, loyd,\n",
      "Nearest to d: comdex, poet, sculptor, eric, hoffmann, makers, theorist, nicolas,\n",
      "Nearest to his: disturbing, youngest, intellectually, heard, ruined, said, was, friend,\n",
      "Nearest to ocean: mahilyow, pacific, locations, kerouac, tributaries, bays, coastline, secrete,\n",
      "Nearest to except: mondegreen, subsequent, generalise, haggis, moralia, wahhabi, geminated, disguising,\n",
      "Nearest to defense: ultrasonography, passport, dermal, lambeau, rard, enforcement, eidyn, denver,\n",
      "Nearest to brother: woman, scarves, kinsman, father, heartbroken, hulk, danielle, levi,\n",
      "Nearest to freedom: tautologies, teletext, determines, micromachining, timetables, undermined, cahiers, pragmatism,\n",
      "Nearest to egypt: westward, dilmun, anatolia, mprp, menachem, beech, tent, berkelium,\n",
      "Nearest to smith: pforzheim, subliminal, theologico, guin, posthumously, frustrations, oberon, aleksey,\n",
      "Nearest to hold: enslavable, activists, credence, crowns, pimp, visconti, visiting, embodies,\n",
      "Epoch 3/10 Iteration: 11100 Avg. Training loss: 4.1703 0.3216 sec/batch\n",
      "Epoch 3/10 Iteration: 11200 Avg. Training loss: 4.2288 0.3032 sec/batch\n",
      "Epoch 3/10 Iteration: 11300 Avg. Training loss: 4.2078 0.3129 sec/batch\n",
      "Epoch 3/10 Iteration: 11400 Avg. Training loss: 4.1473 0.3159 sec/batch\n",
      "Epoch 3/10 Iteration: 11500 Avg. Training loss: 4.1804 0.3146 sec/batch\n",
      "Epoch 3/10 Iteration: 11600 Avg. Training loss: 4.1976 0.3094 sec/batch\n",
      "Epoch 3/10 Iteration: 11700 Avg. Training loss: 4.2054 0.3176 sec/batch\n",
      "Epoch 3/10 Iteration: 11800 Avg. Training loss: 4.1509 0.3118 sec/batch\n",
      "Epoch 3/10 Iteration: 11900 Avg. Training loss: 4.1575 0.3167 sec/batch\n",
      "Epoch 3/10 Iteration: 12000 Avg. Training loss: 4.2196 0.3141 sec/batch\n",
      "Nearest to had: brunette, believing, his, coolant, quirk, sent, wikis, forecourt,\n",
      "Nearest to on: durables, newt, petered, whiting, mouvement, johns, durum, restructured,\n",
      "Nearest to states: involving, shilling, susskind, bani, albino, abstain, publicly, yoshinkan,\n",
      "Nearest to four: two, zero, three, five, one, eight, wr, kilometre,\n",
      "Nearest to been: kroni, shrink, prohibitions, theorized, bode, bleuler, dicaprio, thc,\n",
      "Nearest to time: stagnating, end, turbo, astonishingly, intellectualism, reloaded, loyd, rang,\n",
      "Nearest to d: comdex, poet, eric, hoffmann, makers, sculptor, nicolas, theorist,\n",
      "Nearest to his: disturbing, youngest, heard, intellectually, ruined, was, acquainted, said,\n",
      "Nearest to ocean: mahilyow, locations, bays, tributaries, pacific, kerouac, intelsat, coastline,\n",
      "Nearest to except: mondegreen, generalise, subsequent, haggis, wahhabi, moralia, geminated, disguising,\n",
      "Nearest to defense: ultrasonography, lambeau, passport, dermal, enforcement, fledged, eidyn, rard,\n",
      "Nearest to brother: woman, scarves, father, kinsman, heartbroken, hulk, levi, clown,\n",
      "Nearest to freedom: tautologies, teletext, determines, micromachining, undermined, timetables, cahiers, pragmatism,\n",
      "Nearest to egypt: westward, menachem, anatolia, dilmun, berkelium, beech, mprp, unlawfully,\n",
      "Nearest to smith: pforzheim, subliminal, frustrations, guin, theologico, posthumously, dewey, oberon,\n",
      "Nearest to hold: enslavable, credence, crowns, activists, embodies, infinity, visiting, kaddish,\n",
      "Epoch 3/10 Iteration: 12100 Avg. Training loss: 4.1778 0.3119 sec/batch\n",
      "Epoch 3/10 Iteration: 12200 Avg. Training loss: 4.1589 0.3051 sec/batch\n",
      "Epoch 3/10 Iteration: 12300 Avg. Training loss: 4.1910 0.3139 sec/batch\n",
      "Epoch 3/10 Iteration: 12400 Avg. Training loss: 4.1704 0.3116 sec/batch\n",
      "Epoch 3/10 Iteration: 12500 Avg. Training loss: 4.1552 0.3078 sec/batch\n",
      "Epoch 3/10 Iteration: 12600 Avg. Training loss: 4.1653 0.3104 sec/batch\n",
      "Epoch 3/10 Iteration: 12700 Avg. Training loss: 4.1852 0.3243 sec/batch\n",
      "Epoch 3/10 Iteration: 12800 Avg. Training loss: 4.1380 0.3095 sec/batch\n",
      "Epoch 3/10 Iteration: 12900 Avg. Training loss: 4.2000 0.3126 sec/batch\n",
      "Epoch 3/10 Iteration: 13000 Avg. Training loss: 4.2200 0.2939 sec/batch\n",
      "Nearest to had: brunette, his, believing, confronted, coolant, he, sent, priesthood,\n",
      "Nearest to on: durables, petered, newt, restructured, whiting, retirements, durum, sec,\n",
      "Nearest to states: involving, shilling, bani, susskind, scandal, publicly, albino, yoshinkan,\n",
      "Nearest to four: two, one, zero, three, five, eight, seven, six,\n",
      "Nearest to been: kroni, shrink, prohibitions, dicaprio, bode, bleuler, theorized, migrating,\n",
      "Nearest to time: turbo, end, astonishingly, stagnating, intellectualism, barajas, woolworth, candlestick,\n",
      "Nearest to d: poet, sculptor, hoffmann, eric, comdex, colonist, makers, nicolas,\n",
      "Nearest to his: disturbing, youngest, was, acquainted, ruined, intellectually, heard, friend,\n",
      "Nearest to ocean: mahilyow, kerouac, locations, bays, colonized, gallop, pacific, intelsat,\n",
      "Nearest to except: mondegreen, haggis, generalise, subsequent, moralia, disguising, geminated, kilobytes,\n",
      "Nearest to defense: ultrasonography, lambeau, passport, enforcement, eidyn, rard, dermal, retirement,\n",
      "Nearest to brother: woman, heartbroken, father, kinsman, levi, scarves, pinckney, hulk,\n",
      "Nearest to freedom: teletext, tautologies, cahiers, determines, micromachining, undermined, timetables, uf,\n",
      "Nearest to egypt: westward, menachem, dilmun, anatolia, unlawfully, berkelium, beech, mprp,\n",
      "Nearest to smith: pforzheim, subliminal, guin, frustrations, dewey, theologico, amaury, oberon,\n",
      "Nearest to hold: enslavable, activists, credence, crowns, visiting, embodies, kaddish, visconti,\n",
      "Epoch 3/10 Iteration: 13100 Avg. Training loss: 4.2364 0.2771 sec/batch\n",
      "Epoch 3/10 Iteration: 13200 Avg. Training loss: 4.1474 0.2703 sec/batch\n",
      "Epoch 3/10 Iteration: 13300 Avg. Training loss: 4.1441 0.2856 sec/batch\n",
      "Epoch 3/10 Iteration: 13400 Avg. Training loss: 4.1588 0.2856 sec/batch\n",
      "Epoch 3/10 Iteration: 13500 Avg. Training loss: 4.0474 0.2747 sec/batch\n",
      "Epoch 3/10 Iteration: 13600 Avg. Training loss: 4.1568 0.2788 sec/batch\n",
      "Epoch 3/10 Iteration: 13700 Avg. Training loss: 4.1322 0.2532 sec/batch\n",
      "Epoch 3/10 Iteration: 13800 Avg. Training loss: 4.1302 0.2758 sec/batch\n",
      "Epoch 4/10 Iteration: 13900 Avg. Training loss: 4.1602 0.0362 sec/batch\n",
      "Epoch 4/10 Iteration: 14000 Avg. Training loss: 4.1254 0.2771 sec/batch\n",
      "Nearest to had: coolant, brunette, his, forecourt, confronted, believing, destroyed, leaderships,\n",
      "Nearest to on: durables, petered, durum, retirements, restructured, whiting, multiverses, newt,\n",
      "Nearest to states: involving, bani, shilling, susskind, scandal, yoshinkan, albino, publicly,\n",
      "Nearest to four: two, zero, three, five, one, eight, six, seven,\n",
      "Nearest to been: kroni, shrink, prohibitions, theorized, germinate, dicaprio, bode, thc,\n",
      "Nearest to time: turbo, barajas, astonishingly, candlestick, rang, end, stagnating, reloaded,\n",
      "Nearest to d: hoffmann, poet, eric, sculptor, comdex, nicolas, colonist, makers,\n",
      "Nearest to his: disturbing, youngest, intellectually, was, ruined, acquainted, gerrard, career,\n",
      "Nearest to ocean: mahilyow, kerouac, locations, intelsat, bays, colonized, khamsin, gallop,\n",
      "Nearest to except: mondegreen, haggis, generalise, geminated, wahhabi, subsequent, moralia, kilobytes,\n",
      "Nearest to defense: ultrasonography, lambeau, passport, enforcement, dermal, rard, eidyn, retirement,\n",
      "Nearest to brother: kinsman, woman, heartbroken, scarves, pinckney, levi, father, danielle,\n",
      "Nearest to freedom: teletext, tautologies, determines, micromachining, cahiers, undermined, uf, pragmatism,\n",
      "Nearest to egypt: menachem, westward, dilmun, anatolia, unlawfully, berkelium, mprp, strategos,\n",
      "Nearest to smith: pforzheim, subliminal, guin, frustrations, theologico, shipman, dewey, walten,\n",
      "Nearest to hold: enslavable, credence, activists, visiting, crowns, embodies, kaddish, infinity,\n",
      "Epoch 4/10 Iteration: 14100 Avg. Training loss: 4.0762 0.2518 sec/batch\n",
      "Epoch 4/10 Iteration: 14200 Avg. Training loss: 4.0690 0.2835 sec/batch\n",
      "Epoch 4/10 Iteration: 14300 Avg. Training loss: 4.0800 0.2868 sec/batch\n",
      "Epoch 4/10 Iteration: 14400 Avg. Training loss: 4.0389 0.2898 sec/batch\n",
      "Epoch 4/10 Iteration: 14500 Avg. Training loss: 4.0516 0.2893 sec/batch\n",
      "Epoch 4/10 Iteration: 14600 Avg. Training loss: 4.0290 0.2918 sec/batch\n",
      "Epoch 4/10 Iteration: 14700 Avg. Training loss: 4.0797 0.2840 sec/batch\n",
      "Epoch 4/10 Iteration: 14800 Avg. Training loss: 4.1035 0.2966 sec/batch\n",
      "Epoch 4/10 Iteration: 14900 Avg. Training loss: 4.1271 0.3150 sec/batch\n",
      "Epoch 4/10 Iteration: 15000 Avg. Training loss: 4.0451 0.3015 sec/batch\n",
      "Nearest to had: coolant, confronted, destroyed, sent, forecourt, quirk, his, he,\n",
      "Nearest to on: durum, durables, retirements, tonnes, petered, newt, hole, multiverses,\n",
      "Nearest to states: involving, bani, shilling, abstain, u, yoshinkan, susskind, scandal,\n",
      "Nearest to four: two, three, zero, five, one, eight, six, kilometre,\n",
      "Nearest to been: kroni, shrink, dicaprio, germinate, prohibitions, suitor, emerging, theorized,\n",
      "Nearest to time: turbo, end, playoff, astonishingly, candlestick, barajas, stagnating, woolworth,\n",
      "Nearest to d: hoffmann, comdex, eric, colonist, makers, isu, poet, sculptor,\n",
      "Nearest to his: disturbing, youngest, was, intellectually, ruined, friend, acquainted, gerrard,\n",
      "Nearest to ocean: mahilyow, kerouac, colonized, locations, intelsat, khamsin, valet, astride,\n",
      "Nearest to except: mondegreen, haggis, generalise, moralia, geminated, wahhabi, subsequent, are,\n",
      "Nearest to defense: ultrasonography, lambeau, dermal, enforcement, passport, rard, eidyn, fledged,\n",
      "Nearest to brother: kinsman, woman, father, heartbroken, levi, scarves, pinckney, son,\n",
      "Nearest to freedom: teletext, tautologies, determines, cahiers, micromachining, timetables, uf, undermined,\n",
      "Nearest to egypt: dilmun, strategos, menachem, westward, unlawfully, beech, mprp, anatolia,\n",
      "Nearest to smith: pforzheim, subliminal, guin, walten, shipman, dewey, theologico, frustrations,\n",
      "Nearest to hold: credence, enslavable, crowns, visiting, embodies, kaddish, infinity, activists,\n",
      "Epoch 4/10 Iteration: 15100 Avg. Training loss: 4.0249 0.3245 sec/batch\n",
      "Epoch 4/10 Iteration: 15200 Avg. Training loss: 4.0130 0.3194 sec/batch\n",
      "Epoch 4/10 Iteration: 15300 Avg. Training loss: 4.0478 0.3358 sec/batch\n",
      "Epoch 4/10 Iteration: 15400 Avg. Training loss: 4.0542 0.3170 sec/batch\n",
      "Epoch 4/10 Iteration: 15500 Avg. Training loss: 4.0775 0.3172 sec/batch\n",
      "Epoch 4/10 Iteration: 15600 Avg. Training loss: 4.0437 0.3194 sec/batch\n",
      "Epoch 4/10 Iteration: 15700 Avg. Training loss: 4.0499 0.3200 sec/batch\n",
      "Epoch 4/10 Iteration: 15800 Avg. Training loss: 4.0761 0.3090 sec/batch\n",
      "Epoch 4/10 Iteration: 15900 Avg. Training loss: 4.0640 0.2987 sec/batch\n",
      "Epoch 4/10 Iteration: 16000 Avg. Training loss: 4.0190 0.3180 sec/batch\n",
      "Nearest to had: his, coolant, sent, he, kinsman, destroyed, confronted, forecourt,\n",
      "Nearest to on: petered, inoculate, hole, durables, durum, retirements, newt, sec,\n",
      "Nearest to states: involving, shilling, bani, united, abstain, yoshinkan, u, susskind,\n",
      "Nearest to four: two, three, five, zero, one, six, eight, seven,\n",
      "Nearest to been: kroni, shrink, germinate, emerging, dicaprio, prohibitions, theorized, thc,\n",
      "Nearest to time: turbo, stagnating, end, reloaded, rang, lasting, astonishingly, candlestick,\n",
      "Nearest to d: hoffmann, makers, isu, comdex, eric, bait, poet, colonist,\n",
      "Nearest to his: disturbing, youngest, was, intellectually, career, acquainted, ruined, desilu,\n",
      "Nearest to ocean: mahilyow, colonized, khamsin, gallop, locations, secrete, intelsat, kerouac,\n",
      "Nearest to except: mondegreen, haggis, generalise, moralia, are, geminated, wahhabi, kilobytes,\n",
      "Nearest to defense: ultrasonography, lambeau, enforcement, dermal, passport, rard, fledged, eidyn,\n",
      "Nearest to brother: kinsman, heartbroken, woman, father, scarves, levi, pinckney, paternal,\n",
      "Nearest to freedom: teletext, tautologies, determines, micromachining, cahiers, uf, timetables, pragmatism,\n",
      "Nearest to egypt: westward, menachem, mprp, beech, strategos, unlawfully, berkelium, anatolia,\n",
      "Nearest to smith: pforzheim, subliminal, guin, dewey, shipman, frustrations, walten, theologico,\n",
      "Nearest to hold: credence, visiting, enslavable, crowns, embodies, infinity, kaddish, activists,\n",
      "Epoch 4/10 Iteration: 16100 Avg. Training loss: 4.0832 0.3212 sec/batch\n",
      "Epoch 4/10 Iteration: 16200 Avg. Training loss: 4.1155 0.3073 sec/batch\n",
      "Epoch 4/10 Iteration: 16300 Avg. Training loss: 4.0792 0.3077 sec/batch\n",
      "Epoch 4/10 Iteration: 16400 Avg. Training loss: 4.0519 0.2984 sec/batch\n",
      "Epoch 4/10 Iteration: 16500 Avg. Training loss: 4.0824 0.3072 sec/batch\n",
      "Epoch 4/10 Iteration: 16600 Avg. Training loss: 4.0231 0.3305 sec/batch\n",
      "Epoch 4/10 Iteration: 16700 Avg. Training loss: 4.0626 0.3298 sec/batch\n",
      "Epoch 4/10 Iteration: 16800 Avg. Training loss: 4.0819 0.2975 sec/batch\n",
      "Epoch 4/10 Iteration: 16900 Avg. Training loss: 4.1139 0.2775 sec/batch\n",
      "Epoch 4/10 Iteration: 17000 Avg. Training loss: 4.0943 0.2743 sec/batch\n",
      "Nearest to had: his, kinsman, he, sent, confronted, destroyed, was, believing,\n",
      "Nearest to on: retirements, newt, durum, whiting, multiverses, aller, hurdler, durables,\n",
      "Nearest to states: involving, shilling, bani, united, u, yoshinkan, abstain, weld,\n",
      "Nearest to four: two, five, three, zero, one, six, eight, seven,\n",
      "Nearest to been: kroni, shrink, dicaprio, acceding, emerging, theorized, germinate, skulls,\n",
      "Nearest to time: turbo, lasting, intellectualism, stagnating, acquiesce, end, barajas, reloaded,\n",
      "Nearest to d: hoffmann, makers, comdex, isu, bait, eric, skateboarder, cofactors,\n",
      "Nearest to his: disturbing, youngest, was, acquainted, intellectually, tarim, had, career,\n",
      "Nearest to ocean: mahilyow, intelsat, intersputnik, colonized, khamsin, radiotelephone, locations, gallop,\n",
      "Nearest to except: mondegreen, haggis, generalise, moralia, geminated, are, kilobytes, wahhabi,\n",
      "Nearest to defense: lambeau, ultrasonography, enforcement, passport, dermal, rard, police, fledged,\n",
      "Nearest to brother: kinsman, heartbroken, father, woman, pinckney, died, paternal, daughter,\n",
      "Nearest to freedom: teletext, determines, tautologies, micromachining, cahiers, zimbabwe, competitiveness, uf,\n",
      "Nearest to egypt: strategos, westward, menachem, dilmun, mprp, beech, unlawfully, anatolia,\n",
      "Nearest to smith: pforzheim, subliminal, guin, shipman, dewey, frustrations, walten, amaury,\n",
      "Nearest to hold: credence, embodies, visiting, enslavable, crowns, kaddish, activists, infinity,\n",
      "Epoch 4/10 Iteration: 17100 Avg. Training loss: 4.0325 0.2899 sec/batch\n",
      "Epoch 4/10 Iteration: 17200 Avg. Training loss: 4.0238 0.3170 sec/batch\n",
      "Epoch 4/10 Iteration: 17300 Avg. Training loss: 4.0209 0.2987 sec/batch\n",
      "Epoch 4/10 Iteration: 17400 Avg. Training loss: 4.0813 0.2880 sec/batch\n",
      "Epoch 4/10 Iteration: 17500 Avg. Training loss: 4.0339 0.3034 sec/batch\n",
      "Epoch 4/10 Iteration: 17600 Avg. Training loss: 4.1041 0.2964 sec/batch\n",
      "Epoch 4/10 Iteration: 17700 Avg. Training loss: 4.1536 0.3019 sec/batch\n",
      "Epoch 4/10 Iteration: 17800 Avg. Training loss: 4.0544 0.2972 sec/batch\n",
      "Epoch 4/10 Iteration: 17900 Avg. Training loss: 4.0674 0.3018 sec/batch\n",
      "Epoch 4/10 Iteration: 18000 Avg. Training loss: 4.0843 0.2894 sec/batch\n",
      "Nearest to had: he, his, kinsman, confronted, destroyed, sent, was, brunette,\n",
      "Nearest to on: retirements, newt, sec, technicality, aller, inoculate, whiting, petered,\n",
      "Nearest to states: involving, bani, united, shilling, u, yoshinkan, kru, scandal,\n",
      "Nearest to four: two, five, zero, three, one, eight, six, seven,\n",
      "Nearest to been: kroni, shrink, dicaprio, emerging, acceding, prohibitions, germinate, belt,\n",
      "Nearest to time: turbo, lasting, barajas, acquiesce, astonishingly, reloaded, end, stagnating,\n",
      "Nearest to d: hoffmann, colonist, makers, eric, isu, sculptor, skateboarder, theorist,\n",
      "Nearest to his: youngest, disturbing, intellectually, was, desilu, had, acquainted, career,\n",
      "Nearest to ocean: mahilyow, intersputnik, intelsat, khamsin, radiotelephone, colonized, astride, locations,\n",
      "Nearest to except: mondegreen, haggis, moralia, are, generalise, geminated, kilobytes, faris,\n",
      "Nearest to defense: ultrasonography, lambeau, enforcement, passport, rard, dermal, police, guard,\n",
      "Nearest to brother: kinsman, pinckney, father, heartbroken, woman, levi, daughter, paternal,\n",
      "Nearest to freedom: teletext, determines, tautologies, micromachining, cahiers, uf, zimbabwe, competitiveness,\n",
      "Nearest to egypt: menachem, strategos, westward, mprp, beech, dilmun, palestinian, unlawfully,\n",
      "Nearest to smith: pforzheim, subliminal, shipman, guin, dewey, walten, amaury, try,\n",
      "Nearest to hold: credence, kaddish, embodies, visiting, infinity, crowns, enslavable, regardless,\n",
      "Epoch 4/10 Iteration: 18100 Avg. Training loss: 4.0213 0.3195 sec/batch\n",
      "Epoch 4/10 Iteration: 18200 Avg. Training loss: 4.0336 0.3053 sec/batch\n",
      "Epoch 4/10 Iteration: 18300 Avg. Training loss: 4.0337 0.2950 sec/batch\n",
      "Epoch 4/10 Iteration: 18400 Avg. Training loss: 4.0248 0.3003 sec/batch\n",
      "Epoch 4/10 Iteration: 18500 Avg. Training loss: 4.0928 0.3111 sec/batch\n",
      "Epoch 5/10 Iteration: 18600 Avg. Training loss: 4.0386 0.2516 sec/batch\n",
      "Epoch 5/10 Iteration: 18700 Avg. Training loss: 4.0165 0.3004 sec/batch\n",
      "Epoch 5/10 Iteration: 18800 Avg. Training loss: 4.0136 0.3154 sec/batch\n",
      "Epoch 5/10 Iteration: 18900 Avg. Training loss: 4.0213 0.2888 sec/batch\n",
      "Epoch 5/10 Iteration: 19000 Avg. Training loss: 3.9607 0.3627 sec/batch\n",
      "Nearest to had: kinsman, he, his, sent, was, confronted, destroyed, quirk,\n",
      "Nearest to on: petered, retirements, tonnes, newt, durum, aller, inoculate, weatherman,\n",
      "Nearest to states: involving, united, bani, u, shilling, yoshinkan, kru, albino,\n",
      "Nearest to four: two, five, zero, three, one, eight, six, seven,\n",
      "Nearest to been: kroni, dicaprio, shrink, germinate, skulls, emerging, acceding, shades,\n",
      "Nearest to time: lasting, turbo, astonishingly, barajas, showa, candlestick, stagnating, end,\n",
      "Nearest to d: colonist, hoffmann, poet, skateboarder, makers, isu, sculptor, nicolas,\n",
      "Nearest to his: youngest, was, disturbing, intellectually, ruined, unconcerned, had, acquainted,\n",
      "Nearest to ocean: mahilyow, khamsin, intersputnik, intelsat, colonized, radiotelephone, secrete, valet,\n",
      "Nearest to except: mondegreen, haggis, generalise, moralia, geminated, wahhabi, kilobytes, carbide,\n",
      "Nearest to defense: ultrasonography, enforcement, lambeau, dermal, guard, passport, exactly, euclidean,\n",
      "Nearest to brother: kinsman, father, heartbroken, pinckney, illegitimate, daughter, cousin, woman,\n",
      "Nearest to freedom: teletext, determines, micromachining, uf, zimbabwe, tautologies, cahiers, tertium,\n",
      "Nearest to egypt: strategos, beech, mprp, menachem, unlawfully, dilmun, westward, berkelium,\n",
      "Nearest to smith: pforzheim, subliminal, shipman, dewey, guin, walten, amaury, theologico,\n",
      "Nearest to hold: credence, visiting, kaddish, crowns, embodies, regardless, infinity, activists,\n",
      "Epoch 5/10 Iteration: 19100 Avg. Training loss: 3.9856 0.3654 sec/batch\n",
      "Epoch 5/10 Iteration: 19200 Avg. Training loss: 3.9565 0.3470 sec/batch\n",
      "Epoch 5/10 Iteration: 19300 Avg. Training loss: 4.0104 0.3360 sec/batch\n",
      "Epoch 5/10 Iteration: 19400 Avg. Training loss: 4.0292 0.3306 sec/batch\n",
      "Epoch 5/10 Iteration: 19500 Avg. Training loss: 4.0264 0.3307 sec/batch\n",
      "Epoch 5/10 Iteration: 19600 Avg. Training loss: 3.9893 0.3391 sec/batch\n",
      "Epoch 5/10 Iteration: 19700 Avg. Training loss: 3.8976 0.3336 sec/batch\n",
      "Epoch 5/10 Iteration: 19800 Avg. Training loss: 3.9437 0.3198 sec/batch\n",
      "Epoch 5/10 Iteration: 19900 Avg. Training loss: 3.9654 0.3289 sec/batch\n",
      "Epoch 5/10 Iteration: 20000 Avg. Training loss: 3.9601 0.3394 sec/batch\n",
      "Nearest to had: he, his, kinsman, confronted, sent, destroyed, was, convinced,\n",
      "Nearest to on: newt, retirements, petered, durum, tonnes, inoculate, weatherman, the,\n",
      "Nearest to states: involving, united, u, bani, yoshinkan, kru, shilling, abstain,\n",
      "Nearest to four: two, five, three, zero, one, six, eight, seven,\n",
      "Nearest to been: shrink, kroni, dicaprio, germinate, emerging, skulls, belt, acceding,\n",
      "Nearest to time: lasting, turbo, end, astonishingly, barajas, divisional, candlestick, playoff,\n",
      "Nearest to d: makers, hoffmann, g, isu, colonist, cofactors, longbowman, longitudinal,\n",
      "Nearest to his: youngest, disturbing, ruined, was, unconcerned, had, intellectually, career,\n",
      "Nearest to ocean: mahilyow, intelsat, khamsin, intersputnik, radiotelephone, colonized, pacific, geologic,\n",
      "Nearest to except: mondegreen, haggis, generalise, moralia, geminated, are, wahhabi, kilobytes,\n",
      "Nearest to defense: ultrasonography, lambeau, dermal, enforcement, guard, tactical, passport, exactly,\n",
      "Nearest to brother: kinsman, father, pinckney, woman, heartbroken, levi, illegitimate, daughter,\n",
      "Nearest to freedom: teletext, determines, micromachining, competitiveness, tautologies, zimbabwe, cahiers, uf,\n",
      "Nearest to egypt: strategos, unlawfully, dilmun, menachem, mprp, beech, westward, anatolia,\n",
      "Nearest to smith: pforzheim, subliminal, shipman, dewey, guin, amaury, walten, negates,\n",
      "Nearest to hold: visiting, kaddish, credence, regardless, infinity, crowns, enslavable, embodies,\n",
      "Epoch 5/10 Iteration: 20100 Avg. Training loss: 4.0016 0.3405 sec/batch\n",
      "Epoch 5/10 Iteration: 20200 Avg. Training loss: 4.0076 0.3277 sec/batch\n",
      "Epoch 5/10 Iteration: 20300 Avg. Training loss: 3.9776 0.3273 sec/batch\n",
      "Epoch 5/10 Iteration: 20400 Avg. Training loss: 4.0095 0.3327 sec/batch\n",
      "Epoch 5/10 Iteration: 20500 Avg. Training loss: 4.0524 0.3379 sec/batch\n"
     ]
    }
   ],
   "source": [
    "epochs = 10\n",
    "batch_size = 1000\n",
    "window_size = 10\n",
    "\n",
    "with train_graph.as_default():\n",
    "    saver = tf.train.Saver()\n",
    "\n",
    "with tf.Session(graph=train_graph) as sess:\n",
    "    iteration = 1\n",
    "    loss = 0\n",
    "    sess.run(tf.global_variables_initializer())\n",
    "\n",
    "    for e in range(1, epochs+1):\n",
    "        batches = get_batches(train_words, batch_size, window_size)\n",
    "        start = time.time()\n",
    "        for x, y in batches:\n",
    "            \n",
    "            feed = {inputs: x,\n",
    "                    labels: np.array(y)[:, None]}\n",
    "            train_loss, _ = sess.run([cost, optimizer], feed_dict=feed)\n",
    "            \n",
    "            loss += train_loss\n",
    "            \n",
    "            if iteration % 100 == 0: \n",
    "                end = time.time()\n",
    "                print(\"Epoch {}/{}\".format(e, epochs),\n",
    "                      \"Iteration: {}\".format(iteration),\n",
    "                      \"Avg. Training loss: {:.4f}\".format(loss/100),\n",
    "                      \"{:.4f} sec/batch\".format((end-start)/100))\n",
    "                loss = 0\n",
    "                start = time.time()\n",
    "            \n",
    "            if iteration % 1000 == 0:\n",
    "                ## From Thushan Ganegedara's implementation\n",
    "                # note that this is expensive (~20% slowdown if computed every 500 steps)\n",
    "                sim = similarity.eval()\n",
    "                for i in range(valid_size):\n",
    "                    valid_word = int_to_vocab[valid_examples[i]]\n",
    "                    top_k = 8 # number of nearest neighbors\n",
    "                    nearest = (-sim[i, :]).argsort()[1:top_k+1]\n",
    "                    log = 'Nearest to %s:' % valid_word\n",
    "                    for k in range(top_k):\n",
    "                        close_word = int_to_vocab[nearest[k]]\n",
    "                        log = '%s %s,' % (log, close_word)\n",
    "                    print(log)\n",
    "            \n",
    "            iteration += 1\n",
    "    save_path = saver.save(sess, \"checkpoints/text8.ckpt\")\n",
    "    embed_mat = sess.run(normalized_embedding)"
   ]
  },
  {
   "cell_type": "markdown",
   "metadata": {
    "deletable": true,
    "editable": true
   },
   "source": [
    "Restore the trained network if you need to:"
   ]
  },
  {
   "cell_type": "code",
   "execution_count": null,
   "metadata": {
    "collapsed": true,
    "deletable": true,
    "editable": true
   },
   "outputs": [],
   "source": [
    "with train_graph.as_default():\n",
    "    saver = tf.train.Saver()\n",
    "\n",
    "with tf.Session(graph=train_graph) as sess:\n",
    "    saver.restore(sess, tf.train.latest_checkpoint('checkpoints'))\n",
    "    embed_mat = sess.run(embedding)"
   ]
  },
  {
   "cell_type": "markdown",
   "metadata": {
    "deletable": true,
    "editable": true
   },
   "source": [
    "## Visualizing the word vectors\n",
    "\n",
    "Below we'll use T-SNE to visualize how our high-dimensional word vectors cluster together. T-SNE is used to project these vectors into two dimensions while preserving local stucture. Check out [this post from Christopher Olah](http://colah.github.io/posts/2014-10-Visualizing-MNIST/) to learn more about T-SNE and other ways to visualize high-dimensional data."
   ]
  },
  {
   "cell_type": "code",
   "execution_count": null,
   "metadata": {
    "collapsed": true,
    "deletable": true,
    "editable": true
   },
   "outputs": [],
   "source": [
    "%matplotlib inline\n",
    "%config InlineBackend.figure_format = 'retina'\n",
    "\n",
    "import matplotlib.pyplot as plt\n",
    "from sklearn.manifold import TSNE"
   ]
  },
  {
   "cell_type": "code",
   "execution_count": null,
   "metadata": {
    "collapsed": true,
    "deletable": true,
    "editable": true
   },
   "outputs": [],
   "source": [
    "viz_words = 500\n",
    "tsne = TSNE()\n",
    "embed_tsne = tsne.fit_transform(embed_mat[:viz_words, :])"
   ]
  },
  {
   "cell_type": "code",
   "execution_count": null,
   "metadata": {
    "collapsed": true,
    "deletable": true,
    "editable": true
   },
   "outputs": [],
   "source": [
    "fig, ax = plt.subplots(figsize=(14, 14))\n",
    "for idx in range(viz_words):\n",
    "    plt.scatter(*embed_tsne[idx, :], color='steelblue')\n",
    "    plt.annotate(int_to_vocab[idx], (embed_tsne[idx, 0], embed_tsne[idx, 1]), alpha=0.7)"
   ]
  }
 ],
 "metadata": {
  "kernelspec": {
   "display_name": "Python 3",
   "language": "python",
   "name": "python3"
  },
  "language_info": {
   "codemirror_mode": {
    "name": "ipython",
    "version": 3
   },
   "file_extension": ".py",
   "mimetype": "text/x-python",
   "name": "python",
   "nbconvert_exporter": "python",
   "pygments_lexer": "ipython3",
   "version": "3.6.4"
  }
 },
 "nbformat": 4,
 "nbformat_minor": 2
}
